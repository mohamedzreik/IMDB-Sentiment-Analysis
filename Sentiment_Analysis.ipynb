{
  "nbformat": 4,
  "nbformat_minor": 0,
  "metadata": {
    "colab": {
      "provenance": [],
      "gpuType": "T4"
    },
    "kernelspec": {
      "name": "python3",
      "display_name": "Python 3"
    },
    "language_info": {
      "name": "python"
    },
    "accelerator": "GPU"
  },
  "cells": [
    {
      "cell_type": "code",
      "execution_count": 50,
      "metadata": {
        "id": "OD962D-KQYLf"
      },
      "outputs": [],
      "source": [
        "import os\n",
        "os.environ[\"CUBLAS_WORKSPACE_CONFIG\"] = \":4096:8\"\n",
        "import time\n",
        "import numpy as np\n",
        "from tqdm import tqdm\n",
        "from string import punctuation\n",
        "from collections import Counter\n",
        "import matplotlib.pyplot as plt\n",
        "import torch\n",
        "torch.use_deterministic_algorithms(False)\n",
        "import torch.nn as nn\n",
        "from torch.utils.data import DataLoader, TensorDataset"
      ]
    },
    {
      "cell_type": "code",
      "source": [
        "device = torch.device('cuda' if torch.cuda.is_available() else 'cpu')\n",
        "torch.use_deterministic_algorithms(False)"
      ],
      "metadata": {
        "id": "eV8PwOCdQfOS"
      },
      "execution_count": 51,
      "outputs": []
    },
    {
      "cell_type": "code",
      "source": [
        "# Unzip train and test\n",
        "!unzip train.zip\n",
        "!unzip test.zip"
      ],
      "metadata": {
        "id": "k91Lr6E1QfRo"
      },
      "execution_count": null,
      "outputs": []
    },
    {
      "cell_type": "code",
      "source": [
        "\n",
        "print(os.listdir('/content/train'))\n",
        "print(os.listdir('/content/test'))"
      ],
      "metadata": {
        "colab": {
          "base_uri": "https://localhost:8080/"
        },
        "id": "XL9HIOVhQfUh",
        "outputId": "89ddd748-14fe-4fca-d367-a9553170598c"
      },
      "execution_count": 5,
      "outputs": [
        {
          "output_type": "stream",
          "name": "stdout",
          "text": [
            "['urls_unsup.txt', 'unsup', 'neg', 'pos', 'urls_neg.txt', 'urls_pos.txt', 'labeledBow.feat', 'unsupBow.feat']\n",
            "['neg', 'pos', 'urls_neg.txt', 'urls_pos.txt', 'labeledBow.feat']\n"
          ]
        }
      ]
    },
    {
      "cell_type": "code",
      "source": [
        "# read sentiments and reviews data from the text files\n",
        "review_list = []\n",
        "label_list = []\n",
        "for label in ['pos', 'neg']:\n",
        "  for fname in tqdm(os.listdir(\n",
        "    f'/content/train/{label}/')):\n",
        "    if 'txt' not in fname:\n",
        "      continue\n",
        "    with open(os.path.join(f'/content/train/{label}/',\n",
        "    fname), encoding=\"utf8\") as f:\n",
        "      review_list += [f.read()]\n",
        "      label_list += [label]\n",
        "print ('Number of reviews :', len(review_list))"
      ],
      "metadata": {
        "colab": {
          "base_uri": "https://localhost:8080/"
        },
        "id": "e5VD8o7xQfXa",
        "outputId": "3c4384e0-fbc8-4711-bdbf-e30623c711d9"
      },
      "execution_count": 7,
      "outputs": [
        {
          "output_type": "stream",
          "name": "stderr",
          "text": [
            "100%|██████████| 12500/12500 [00:00<00:00, 47933.11it/s]\n",
            "100%|██████████| 12500/12500 [00:00<00:00, 47149.86it/s]"
          ]
        },
        {
          "output_type": "stream",
          "name": "stdout",
          "text": [
            "Number of reviews : 25000\n"
          ]
        },
        {
          "output_type": "stream",
          "name": "stderr",
          "text": [
            "\n"
          ]
        }
      ]
    },
    {
      "cell_type": "code",
      "source": [
        "review_list = [review.lower() for review in review_list]\n",
        "review_list = [''.join([letter for letter in review\n",
        "if letter not in punctuation])\n",
        "for review in tqdm(review_list)]\n",
        "# accumulate all review texts together\n",
        "reviews_blob = ' '.join(review_list)\n",
        "# generate list of all words of all reviews\n",
        "review_words = reviews_blob.split()\n",
        "# get the word counts\n",
        "count_words = Counter(review_words)\n",
        "# sort words as per counts (decreasing order)\n",
        "total_review_words = len(review_words)\n",
        "sorted_review_words = count_words.most_common(total_review_words)\n",
        "print(sorted_review_words[:10])"
      ],
      "metadata": {
        "colab": {
          "base_uri": "https://localhost:8080/"
        },
        "id": "sEnKfIiNQfZ6",
        "outputId": "c899acbe-c698-4a6d-dc11-4aa17298f9c5"
      },
      "execution_count": 8,
      "outputs": [
        {
          "output_type": "stream",
          "name": "stderr",
          "text": [
            "100%|██████████| 25000/25000 [00:01<00:00, 15120.31it/s]\n"
          ]
        },
        {
          "output_type": "stream",
          "name": "stdout",
          "text": [
            "[('the', 334691), ('and', 162228), ('a', 161940), ('of', 145326), ('to', 135042), ('is', 106855), ('in', 93028), ('it', 77099), ('i', 75719), ('this', 75190)]\n"
          ]
        }
      ]
    },
    {
      "cell_type": "code",
      "source": [
        "# create word to integer (token) dictionary\n",
        "# in order to encode text as numbers\n",
        "vocab_to_token = {word:idx+1 for idx,\n",
        "(word, count) in enumerate(sorted_review_words)}\n",
        "print(list(vocab_to_token.items())[:10])"
      ],
      "metadata": {
        "colab": {
          "base_uri": "https://localhost:8080/"
        },
        "id": "g_cfauLXQfck",
        "outputId": "0ffe05b2-98b6-4f94-faff-ee965c66d5cf"
      },
      "execution_count": 9,
      "outputs": [
        {
          "output_type": "stream",
          "name": "stdout",
          "text": [
            "[('the', 1), ('and', 2), ('a', 3), ('of', 4), ('to', 5), ('is', 6), ('in', 7), ('it', 8), ('i', 9), ('this', 10)]\n"
          ]
        }
      ]
    },
    {
      "cell_type": "code",
      "source": [
        "reviews_tokenized = []\n",
        "for review in review_list:\n",
        "  word_to_token = [vocab_to_token[word] for word in\n",
        "review.split()]\n",
        "  reviews_tokenized.append(word_to_token)\n",
        "print(review_list[0])\n",
        "print()\n",
        "print (reviews_tokenized[0])"
      ],
      "metadata": {
        "colab": {
          "base_uri": "https://localhost:8080/"
        },
        "id": "clSJpJmKQffc",
        "outputId": "3512271f-585c-4217-e59b-85e10c9a5ad3"
      },
      "execution_count": 21,
      "outputs": [
        {
          "output_type": "stream",
          "name": "stdout",
          "text": [
            "when i first found out that brian krause was going to be in this movie i wanted to watch it took me weeks to realize that ive seen the original of this and loved it so i had even more reason to watch well i watched it was actually better than most sequels for tv movies i hate what happens to brians character you can find out for yourself and i didnt like most of the characters brians one included but the movie needed the cheesy and annoying and jerklike characters to make stanley caldwell judd nelson shine once more at the end i was cheering for stanley and his own happy ending if you liked the original cabin by the lake or if you like horror movies without the blood id suggest you watch this\n",
            "\n",
            "[50, 9, 85, 248, 45, 11, 1584, 14098, 13, 165, 5, 27, 7, 10, 17, 9, 452, 5, 103, 8, 539, 69, 2383, 5, 886, 11, 194, 107, 1, 197, 4, 10, 2, 433, 8, 37, 9, 66, 53, 51, 274, 5, 103, 73, 9, 283, 8, 13, 155, 124, 70, 87, 2212, 15, 243, 92, 9, 780, 48, 556, 5, 20049, 108, 22, 68, 159, 45, 15, 625, 2, 9, 152, 38, 87, 4, 1, 101, 20049, 28, 1887, 18, 1, 17, 874, 1, 929, 2, 609, 2, 57550, 101, 5, 93, 2922, 36644, 6336, 3245, 4102, 271, 51, 30, 1, 128, 9, 13, 7988, 15, 2922, 2, 24, 199, 672, 281, 44, 22, 404, 1, 197, 2769, 32, 1, 2082, 41, 44, 22, 38, 196, 92, 200, 1, 534, 437, 1403, 22, 103, 10]\n"
          ]
        }
      ]
    },
    {
      "cell_type": "code",
      "source": [
        "# encode sentiments as 0 or 1\n",
        "encoded_label_list = [1 if label =='pos'\n",
        "else 0 for label in label_list]\n",
        "reviews_len = [len(review) for review in reviews_tokenized]\n",
        "reviews_tokenized = [reviews_tokenized[I]\n",
        "for I, l in enumerate(reviews_len)\n",
        "if l>0 ]\n",
        "encoded_label_list = np.array([encoded_label_list[I]\n",
        "for I, l in enumerate(reviews_len)\n",
        "if l> 0 ], dtype=np.float32)"
      ],
      "metadata": {
        "id": "p2MaTwiJQfiM"
      },
      "execution_count": 23,
      "outputs": []
    },
    {
      "cell_type": "code",
      "source": [
        "import numpy as np\n",
        "import matplotlib.pyplot as plt\n",
        "\n",
        "def pad_sequence(reviews_tokenized, sequence_length):\n",
        "    \"\"\"\n",
        "    Returns the tokenized review sequences padded with 0s or truncated to sequence_length.\n",
        "    \"\"\"\n",
        "    padded_reviews = np.zeros((len(reviews_tokenized), sequence_length), dtype=int)\n",
        "\n",
        "    for idx, review in enumerate(reviews_tokenized):\n",
        "        review_len = len(review)\n",
        "\n",
        "        if review_len <= sequence_length:\n",
        "            # pad with zeros at the beginning\n",
        "            zeroes = [0] * (sequence_length - review_len)\n",
        "            new_sequence = zeroes + review\n",
        "        else:\n",
        "            # truncate if longer than sequence_length\n",
        "            new_sequence = review[:sequence_length]\n",
        "\n",
        "        padded_reviews[idx, :] = np.array(new_sequence)\n",
        "\n",
        "    return padded_reviews\n",
        "\n",
        "# Example usage\n",
        "sequence_length = 512\n",
        "padded_reviews = pad_sequence(reviews_tokenized=reviews_tokenized, sequence_length=sequence_length)\n",
        "\n",
        "# Plot histogram of review lengths\n",
        "reviews_len = [len(review) for review in reviews_tokenized]\n",
        "plt.hist(reviews_len, bins=50)\n",
        "plt.xlabel(\"Review Length\")\n",
        "plt.ylabel(\"Frequency\")\n",
        "plt.title(\"Histogram of Review Lengths\")\n",
        "plt.show()\n"
      ],
      "metadata": {
        "colab": {
          "base_uri": "https://localhost:8080/",
          "height": 472
        },
        "id": "Eb6cDerBQfn2",
        "outputId": "94bdab72-55ab-44f4-8f6b-930509976271"
      },
      "execution_count": 24,
      "outputs": [
        {
          "output_type": "display_data",
          "data": {
            "text/plain": [
              "<Figure size 640x480 with 1 Axes>"
            ],
            "image/png": "[encoded data removed]"
          },
          "metadata": {}
        }
      ]
    },
    {
      "cell_type": "code",
      "source": [
        "# Train-validation split\n",
        "train_val_split = 0.75\n",
        "split_idx = int(train_val_split * len(padded_reviews))\n",
        "\n",
        "train_X = padded_reviews[:split_idx]\n",
        "train_y = encoded_label_list[:split_idx]\n",
        "\n",
        "validation_X = padded_reviews[split_idx:]\n",
        "validation_y = encoded_label_list[split_idx:]\n"
      ],
      "metadata": {
        "id": "EbsL38aLQfqe"
      },
      "execution_count": 25,
      "outputs": []
    },
    {
      "cell_type": "code",
      "source": [
        "import torch\n",
        "from torch.utils.data import TensorDataset, DataLoader\n",
        "\n",
        "# Convert NumPy arrays to PyTorch tensors and move to device\n",
        "train_dataset = TensorDataset(\n",
        "    torch.from_numpy(train_X).to(device),\n",
        "    torch.from_numpy(train_y).to(device)\n",
        ")\n",
        "\n",
        "validation_dataset = TensorDataset(\n",
        "    torch.from_numpy(validation_X).to(device),\n",
        "    torch.from_numpy(validation_y).to(device)\n",
        ")\n",
        "\n",
        "batch_size = 32\n",
        "\n",
        "# Create PyTorch DataLoaders with shuffling for training\n",
        "train_dataloader = DataLoader(\n",
        "    train_dataset, batch_size=batch_size, shuffle=True\n",
        ")\n",
        "\n",
        "validation_dataloader = DataLoader(\n",
        "    validation_dataset, batch_size=batch_size, shuffle=True\n",
        ")\n"
      ],
      "metadata": {
        "id": "X0o1cstAQftX"
      },
      "execution_count": 26,
      "outputs": []
    },
    {
      "cell_type": "code",
      "source": [
        "train_data_iter = iter(train_dataloader)\n",
        "\n",
        "X_example, y_example = next(train_data_iter)\n",
        "# batch_size, seq_length\n",
        "print('Example Input size: ', X_example.size())\n",
        "print('Example Input:\\n', X_example)\n",
        "print()\n",
        "# batch_size\n",
        "print('Example Output size: ', y_example.size())\n",
        "print('Example Output:\\n', y_example)"
      ],
      "metadata": {
        "colab": {
          "base_uri": "https://localhost:8080/"
        },
        "id": "_kn0MkJCQfwI",
        "outputId": "3bbe4189-fe6d-4c5d-e8ee-dac50defde17"
      },
      "execution_count": 27,
      "outputs": [
        {
          "output_type": "stream",
          "name": "stdout",
          "text": [
            "Example Input size:  torch.Size([32, 512])\n",
            "Example Input:\n",
            " tensor([[   0,    0,    0,  ...,   48,   54, 1879],\n",
            "        [   0,    0,    0,  ..., 1487,   45,    4],\n",
            "        [   0,    0,    0,  ...,    1,  243,  119],\n",
            "        ...,\n",
            "        [   0,    0,    0,  ...,  203,    7,    8],\n",
            "        [   0,    0,    0,  ...,   45,    4,  301],\n",
            "        [   0,    0,    0,  ..., 3785,   21,    9]], device='cuda:0')\n",
            "\n",
            "Example Output size:  torch.Size([32])\n",
            "Example Output:\n",
            " tensor([0., 0., 1., 0., 1., 1., 1., 0., 1., 1., 1., 0., 1., 0., 0., 1., 1., 1.,\n",
            "        1., 1., 0., 1., 1., 1., 1., 1., 1., 1., 1., 1., 1., 1.],\n",
            "       device='cuda:0')\n"
          ]
        }
      ]
    },
    {
      "cell_type": "code",
      "source": [
        "class RNN(nn.Module):\n",
        "    def __init__(self, input_dimension, embedding_dimension, hidden_dimension, output_dimension):\n",
        "        super().__init__()\n",
        "        self.embedding_layer = nn.Embedding(input_dimension, embedding_dimension)\n",
        "        self.rnn_layer = nn.RNN(embedding_dimension, hidden_dimension, num_layers=1)\n",
        "        self.fc_layer = nn.Linear(hidden_dimension, output_dimension)\n",
        "\n",
        "    def forward(self, sequence):\n",
        "        embedding = self.embedding_layer(sequence)\n",
        "        output, hidden_state = self.rnn_layer(embedding)\n",
        "        final_output = self.fc_layer(hidden_state[-1, :, :].squeeze(0))\n",
        "        return final_output"
      ],
      "metadata": {
        "id": "UflXvi_KQfy4"
      },
      "execution_count": 28,
      "outputs": []
    },
    {
      "cell_type": "code",
      "source": [
        "input_dimension = len(vocab_to_token)+1\n",
        "# +1 to account for padding\n",
        "embedding_dimension = 100\n",
        "hidden_dimension = 32\n",
        "output_dimension = 1\n",
        "rnn_model = RNN(input_dimension, embedding_dimension,\n",
        "hidden_dimension, output_dimension)\n",
        "optim = torch.optim.Adam(rnn_model.parameters())\n",
        "loss_func = nn.BCEWithLogitsLoss()\n",
        "rnn_model = rnn_model.to(device)\n",
        "loss_func = loss_func.to(device)"
      ],
      "metadata": {
        "id": "P6Uc0pwjQf1w"
      },
      "execution_count": 42,
      "outputs": []
    },
    {
      "cell_type": "code",
      "source": [
        "def accuracy_metric(predictions, ground_truth):\n",
        "    rounded_predictions = torch.round(torch.sigmoid(predictions))\n",
        "    success = (rounded_predictions == ground_truth).float()\n",
        "    accuracy = success.sum() / len(success)\n",
        "    return accuracy"
      ],
      "metadata": {
        "id": "-_bGg8XKQf4g"
      },
      "execution_count": 43,
      "outputs": []
    },
    {
      "cell_type": "code",
      "source": [
        "def train(model, dataloader, optim, loss_func):\n",
        "    loss = 0\n",
        "    accuracy = 0\n",
        "    model.train()\n",
        "\n",
        "    for sequence, sentiment in dataloader:\n",
        "        optim.zero_grad()\n",
        "        preds = model(sequence.T).squeeze()\n",
        "        loss_curr = loss_func(preds, sentiment)\n",
        "        accuracy_curr = accuracy_metric(preds, sentiment)\n",
        "        loss_curr.backward()\n",
        "        optim.step()\n",
        "\n",
        "        loss += loss_curr.item()\n",
        "        accuracy += accuracy_curr.item()\n",
        "\n",
        "    return loss / len(dataloader), accuracy / len(dataloader)"
      ],
      "metadata": {
        "id": "06Zx78SiQf7i"
      },
      "execution_count": 44,
      "outputs": []
    },
    {
      "cell_type": "code",
      "source": [
        "def validate(model, dataloader, loss_func):\n",
        "    loss = 0\n",
        "    accuracy = 0\n",
        "    model.eval()\n",
        "\n",
        "    with torch.no_grad():\n",
        "        for sequence, sentiment in dataloader:\n",
        "            preds = model(sequence.T).squeeze()\n",
        "            loss_curr = loss_func(preds, sentiment)\n",
        "            accuracy_curr = accuracy_metric(preds, sentiment)\n",
        "\n",
        "            loss += loss_curr.item()\n",
        "            accuracy += accuracy_curr.item()\n",
        "\n",
        "    return loss / len(dataloader), accuracy / len(dataloader)"
      ],
      "metadata": {
        "id": "nNQy4LiPQf-g"
      },
      "execution_count": 45,
      "outputs": []
    },
    {
      "cell_type": "code",
      "source": [
        "num_epochs = 10\n",
        "best_validation_loss = float('inf')\n",
        "\n",
        "for ep in range(num_epochs):\n",
        "    time_start = time.time()\n",
        "\n",
        "    training_loss, train_accuracy = train(\n",
        "        rnn_model,\n",
        "        train_dataloader,\n",
        "        optim,\n",
        "        loss_func\n",
        "    )\n",
        "\n",
        "    validation_loss, validation_accuracy = validate(\n",
        "        rnn_model,\n",
        "        validation_dataloader,\n",
        "        loss_func\n",
        "    )\n",
        "\n",
        "    time_end = time.time()\n",
        "    time_delta = time_end - time_start\n",
        "\n",
        "    if validation_loss < best_validation_loss:\n",
        "        best_validation_loss = validation_loss\n",
        "        torch.save(rnn_model.state_dict(), 'rnn_model.pt')\n",
        "\n",
        "    print(f'Epoch number: {ep+1} | Time elapsed: {time_delta:.2f}s')\n",
        "    print(f'Training loss: {training_loss:.3f} | Training accuracy: {train_accuracy*100:.2f}%')\n",
        "    print(f'Validation loss: {validation_loss:.3f} | Validation accuracy: {validation_accuracy*100:.2f}%')\n"
      ],
      "metadata": {
        "colab": {
          "base_uri": "https://localhost:8080/"
        },
        "id": "QXsG3kbDQgBj",
        "outputId": "9bbe6e63-5902-44c5-a50e-402f0327af19"
      },
      "execution_count": 52,
      "outputs": [
        {
          "output_type": "stream",
          "name": "stdout",
          "text": [
            "Epoch number: 1 | Time elapsed: 4.79s\n",
            "Training loss: 0.618 | Training accuracy: 66.83%\n",
            "Validation loss: 1.067 | Validation accuracy: 24.78%\n",
            "Epoch number: 2 | Time elapsed: 3.95s\n",
            "Training loss: 0.514 | Training accuracy: 75.29%\n",
            "Validation loss: 0.909 | Validation accuracy: 49.21%\n",
            "Epoch number: 3 | Time elapsed: 4.02s\n",
            "Training loss: 0.425 | Training accuracy: 81.32%\n",
            "Validation loss: 0.827 | Validation accuracy: 57.01%\n",
            "Epoch number: 4 | Time elapsed: 4.17s\n",
            "Training loss: 0.426 | Training accuracy: 80.34%\n",
            "Validation loss: 0.995 | Validation accuracy: 53.44%\n",
            "Epoch number: 5 | Time elapsed: 3.96s\n",
            "Training loss: 0.311 | Training accuracy: 87.48%\n",
            "Validation loss: 0.836 | Validation accuracy: 66.70%\n",
            "Epoch number: 6 | Time elapsed: 4.03s\n",
            "Training loss: 0.326 | Training accuracy: 86.64%\n",
            "Validation loss: 0.712 | Validation accuracy: 66.83%\n",
            "Epoch number: 7 | Time elapsed: 4.17s\n",
            "Training loss: 0.298 | Training accuracy: 88.29%\n",
            "Validation loss: 1.303 | Validation accuracy: 49.31%\n",
            "Epoch number: 8 | Time elapsed: 3.95s\n",
            "Training loss: 0.222 | Training accuracy: 91.94%\n",
            "Validation loss: 1.036 | Validation accuracy: 62.47%\n",
            "Epoch number: 9 | Time elapsed: 4.05s\n",
            "Training loss: 0.196 | Training accuracy: 93.29%\n",
            "Validation loss: 0.710 | Validation accuracy: 72.06%\n",
            "Epoch number: 10 | Time elapsed: 4.14s\n",
            "Training loss: 0.168 | Training accuracy: 94.19%\n",
            "Validation loss: 1.177 | Validation accuracy: 63.48%\n"
          ]
        }
      ]
    },
    {
      "cell_type": "code",
      "source": [
        "def sentiment_inference(model, sentence):\n",
        "    model.eval()\n",
        "\n",
        "    sentence = sentence.lower()\n",
        "    sentence = ''.join([c for c in sentence if c not in punctuation])\n",
        "    tokenized = [vocab_to_token.get(token, 0) for token in sentence.split()]\n",
        "    tokenized = np.pad(tokenized, (512 - len(tokenized), 0), 'constant')\n",
        "\n",
        "    model_input = torch.LongTensor(tokenized).to(device)\n",
        "    model_input = model_input.unsqueeze(1)\n",
        "\n",
        "    pred = torch.sigmoid(model(model_input))\n",
        "    return pred.item()"
      ],
      "metadata": {
        "id": "GyzmqjLbQgEb"
      },
      "execution_count": 53,
      "outputs": []
    },
    {
      "cell_type": "code",
      "source": [
        "print(sentiment_inference(rnn_model, \"This film is horrible\"))\n",
        "print(sentiment_inference(rnn_model, \"Director tried too hard but this film is bad\"))\n",
        "print(sentiment_inference(rnn_model, \"This film will be houseful for weeks\"))\n",
        "print(sentiment_inference(rnn_model, \"I just really loved the movie\"))"
      ],
      "metadata": {
        "colab": {
          "base_uri": "https://localhost:8080/"
        },
        "id": "Qt1qndA0QgHQ",
        "outputId": "3237cc19-18aa-497c-9cea-fc88395ef077"
      },
      "execution_count": 54,
      "outputs": [
        {
          "output_type": "stream",
          "name": "stdout",
          "text": [
            "0.09114712476730347\n",
            "0.6513257622718811\n",
            "0.9965584874153137\n",
            "0.9746956825256348\n"
          ]
        }
      ]
    },
    {
      "cell_type": "code",
      "source": [],
      "metadata": {
        "id": "LyTnzonJQgKD"
      },
      "execution_count": null,
      "outputs": []
    },
    {
      "cell_type": "code",
      "source": [],
      "metadata": {
        "id": "c36gDOJVQgMz"
      },
      "execution_count": null,
      "outputs": []
    },
    {
      "cell_type": "code",
      "source": [],
      "metadata": {
        "id": "65AiphtaQgPk"
      },
      "execution_count": null,
      "outputs": []
    },
    {
      "cell_type": "code",
      "source": [],
      "metadata": {
        "id": "Mix5Glo-QgSN"
      },
      "execution_count": null,
      "outputs": []
    },
    {
      "cell_type": "code",
      "source": [],
      "metadata": {
        "id": "bcf7Q63DQgU-"
      },
      "execution_count": null,
      "outputs": []
    },
    {
      "cell_type": "code",
      "source": [],
      "metadata": {
        "id": "F7zYcUmsQgX2"
      },
      "execution_count": null,
      "outputs": []
    },
    {
      "cell_type": "code",
      "source": [],
      "metadata": {
        "id": "4BcFiqEdQgah"
      },
      "execution_count": null,
      "outputs": []
    },
    {
      "cell_type": "code",
      "source": [],
      "metadata": {
        "id": "MytV-rPBQgdX"
      },
      "execution_count": null,
      "outputs": []
    },
    {
      "cell_type": "code",
      "source": [],
      "metadata": {
        "id": "7Rwk0KiNQggg"
      },
      "execution_count": null,
      "outputs": []
    }
  ]
}